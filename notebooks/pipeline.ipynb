{
 "cells": [
  {
   "cell_type": "markdown",
   "id": "1d593010",
   "metadata": {
    "id": "1d593010"
   },
   "source": [
    "## Package"
   ]
  },
  {
   "cell_type": "code",
   "execution_count": null,
   "id": "86ba0a7e",
   "metadata": {
    "ExecuteTime": {
     "end_time": "2021-05-06T07:41:35.306320Z",
     "start_time": "2021-05-06T07:41:35.302816Z"
    },
    "id": "86ba0a7e"
   },
   "outputs": [],
   "source": [
    "import numpy as np\n",
    "import os\n",
    "import argparse\n",
    "import torch\n",
    "import torchvision\n",
    "import torchvision.transforms as transforms\n",
    "import torch.nn as nn \n",
    "from sklearn.metrics import classification_report\n",
    "import pickle\n",
    "import warnings\n",
    "from sklearn.exceptions import ConvergenceWarning\n",
    "warnings.filterwarnings(action='ignore', category=ConvergenceWarning)"
   ]
  },
  {
   "cell_type": "markdown",
   "id": "17b2ed54",
   "metadata": {
    "id": "17b2ed54"
   },
   "source": [
    "## Config"
   ]
  },
  {
   "cell_type": "code",
   "execution_count": null,
   "id": "7ae68c77",
   "metadata": {
    "ExecuteTime": {
     "end_time": "2021-05-06T07:31:17.065980Z",
     "start_time": "2021-05-06T07:31:17.061766Z"
    },
    "id": "7ae68c77"
   },
   "outputs": [],
   "source": [
    "parser = {\n",
    "    \"experiment_title\": \"dog-cat-test\",\n",
    "    \"root\": \"../\",\n",
    "    \"seeds\": 123,\n",
    "    \"batch_size\": 16,\n",
    "    \"class_a_index\": 5, # 5 -> dog\n",
    "    \"class_b_index\": 3, # 3 -> cat\n",
    "    \"class_a_size\": None, # Use None to read all class_a samples (5000 rows)\n",
    "    \"class_b_size\": None,\n",
    "    \"class_a_weight\": 256,\n",
    "    \"class_b_weight\": 1,\n",
    "    \"epoch\": 20,\n",
    "    \"download_cifar10\": True, # set to True if you have not downloaded cifar10 dataset \n",
    "    \"lr\": 0.1, # learning rate\n",
    "    \"use_batchnorm\": True,\n",
    "    \"num_classes\": 10,\n",
    "}\n",
    "config = argparse.Namespace(**parser)\n",
    "device = torch.device('cuda' if torch.cuda.is_available() else 'cpu')"
   ]
  },
  {
   "cell_type": "markdown",
   "id": "5e823cd0",
   "metadata": {
    "id": "5e823cd0"
   },
   "source": [
    "## Reprodicibility"
   ]
  },
  {
   "cell_type": "code",
   "execution_count": null,
   "id": "528e42c7",
   "metadata": {
    "ExecuteTime": {
     "end_time": "2021-05-06T07:14:04.881272Z",
     "start_time": "2021-05-06T07:14:04.840858Z"
    },
    "id": "528e42c7"
   },
   "outputs": [],
   "source": [
    "def set_seed(seed):\n",
    "    torch.manual_seed(seed)\n",
    "    torch.cuda.manual_seed_all(seed)\n",
    "    torch.backends.cudnn.deterministic = True\n",
    "    torch.backends.cudnn.benchmark = False\n",
    "    np.random.seed(seed)\n",
    "    \n",
    "set_seed(config.seeds)"
   ]
  },
  {
   "cell_type": "markdown",
   "id": "cb955a4a",
   "metadata": {
    "id": "cb955a4a"
   },
   "source": [
    "## Load Data"
   ]
  },
  {
   "cell_type": "code",
   "execution_count": null,
   "id": "0fd2f0ae",
   "metadata": {
    "ExecuteTime": {
     "end_time": "2021-05-06T07:19:20.405904Z",
     "start_time": "2021-05-06T07:19:20.395714Z"
    },
    "id": "0fd2f0ae"
   },
   "outputs": [],
   "source": [
    "class CustomDataLoader:\n",
    "    \n",
    "    def __init__(self, class_a_size=None, class_b_size=None, seeds=123, download=True):\n",
    "        \"\"\"\n",
    "        Arguments:\n",
    "            class_a_size: The number of samples for class a (e.g. dog).\n",
    "            class_b_size: The number of samples for class b (e.g. cat).\n",
    "        \"\"\"\n",
    "        self.class_a_size = class_a_size # e.g. 5000\n",
    "        self.class_b_size = class_b_size # e.g. 5000\n",
    "        self.seeds = seeds\n",
    "        self.classes = ['plane', 'car', 'bird', 'cat',\n",
    "                   'deer', 'dog', 'frog', 'horse', 'ship', 'truck']\n",
    "        self.download = download\n",
    "        \n",
    "    def sampling(self, indices, num, seeds=123):\n",
    "        \"\"\"\n",
    "        Sample num samples from indices randomly. If num is a float and 0.0 <= num <= 1.0,\n",
    "        we sample num percentage of samples from indices.\n",
    "        \"\"\"\n",
    "        np.random.seed(self.seeds)\n",
    "        if isinstance(num, float) and 0 <= num <= 1:\n",
    "            size = int(num * len(indices))\n",
    "            samples = np.random.choice(indices, size)\n",
    "        elif isinstance(num, int) and num <= len(indices):\n",
    "            size = num\n",
    "            samples = np.random.choice(indices, size)\n",
    "        elif num is None:\n",
    "            samples = indices\n",
    "        else:\n",
    "            print(\"Please make sure 'num' is in the correct range\")\n",
    "        return samples       \n",
    "        \n",
    "    def get_subset_index(self, labels, targets):\n",
    "        \n",
    "        # get subsets\n",
    "        sample_indices = []\n",
    "        targets = set(targets)\n",
    "        for i in range(len(labels)):\n",
    "            if labels[i] in targets:\n",
    "                sample_indices.append(i)\n",
    "            \n",
    "        return sample_indices\n",
    "\n",
    "    def load_dataset(self, data_dir, batch_size, train_a_label=5, train_b_label=3):\n",
    "        \n",
    "        transform = transforms.Compose(\n",
    "            [transforms.ToTensor(),\n",
    "             transforms.Normalize((0.5, 0.5, 0.5), (0.5, 0.5, 0.5))])\n",
    "        \n",
    "        # 1. read train data belonged to train_labels\n",
    "        trainset = torchvision.datasets.CIFAR10(root=data_dir, train=True,\n",
    "                                                download=self.download, transform=transform)\n",
    "        \n",
    "        # 1-1. get index belonged to class a and b with sampling\n",
    "        class_a_indices = self.get_subset_index(trainset.targets, [train_a_label])\n",
    "        class_a_indices = self.sampling(class_a_indices, self.class_a_size, self.seeds)\n",
    "        \n",
    "        class_b_indices = self.get_subset_index(trainset.targets, [train_b_label])\n",
    "        class_b_indices = self.sampling(class_b_indices, self.class_b_size, self.seeds)\n",
    "        \n",
    "        train_index_subset = np.concatenate((class_a_indices, class_b_indices)).tolist()\n",
    "        trainsubset = torch.utils.data.Subset(trainset, train_index_subset)\n",
    "\n",
    "        # 1. read test data and separate them into (dog, cat) and (the other 8)\n",
    "        testset = torchvision.datasets.CIFAR10(root=data_dir, train=False,\n",
    "                                               download=self.download, transform=transform)\n",
    "        test_index_class_ab = self.get_subset_index(\n",
    "            labels=testset.targets,\n",
    "            targets=[train_a_label, train_b_label]\n",
    "        )\n",
    "        test_index_others = self.get_subset_index(\n",
    "            labels=testset.targets,\n",
    "            targets=[cls for cls in range(len(self.classes)) if cls not in [train_a_label, train_b_label]]\n",
    "        )\n",
    "        testsubset_ab = torch.utils.data.Subset(testset, test_index_class_ab)\n",
    "        testsubset_others = torch.utils.data.Subset(testset, test_index_others)\n",
    "\n",
    "        return trainsubset, (testset, testsubset_ab, testsubset_others)\n",
    "\n",
    "    def generate_loader(self, dataset, batch_size, shuffle=True, drop_last=True):\n",
    "        dataloader = torch.utils.data.DataLoader(\n",
    "            dataset,\n",
    "            batch_size=batch_size,\n",
    "            shuffle=True,\n",
    "            drop_last=True\n",
    "        )\n",
    "        return dataloader"
   ]
  },
  {
   "cell_type": "code",
   "execution_count": null,
   "id": "565b62d9",
   "metadata": {
    "ExecuteTime": {
     "end_time": "2021-05-06T07:19:22.238988Z",
     "start_time": "2021-05-06T07:19:20.684086Z"
    },
    "colab": {
     "base_uri": "https://localhost:8080/"
    },
    "id": "565b62d9",
    "outputId": "7a211cda-e04e-4e1d-8271-5a0d89cbe41e"
   },
   "outputs": [],
   "source": [
    "mydataloader = CustomDataLoader(\n",
    "    class_a_size=config.class_a_size,\n",
    "    class_b_size=config.class_b_size,\n",
    "    seeds=config.seeds,\n",
    "    download=config.download_cifar10)\n",
    "\n",
    "trainset, (testset, testset_ab, testset_others) = mydataloader.load_dataset(\n",
    "    data_dir=os.path.join(config.root, \"data\"),\n",
    "    batch_size=config.batch_size,\n",
    "    train_a_label=config.class_a_index, # dog\n",
    "    train_b_label=config.class_b_index, # cat\n",
    ")\n",
    "\n",
    "train_loader = mydataloader.generate_loader(\n",
    "    dataset=trainset,\n",
    "    batch_size=config.batch_size,\n",
    "    shuffle=True,\n",
    "    drop_last=True,\n",
    ")\n",
    "\n",
    "test_loader = mydataloader.generate_loader(\n",
    "    dataset=testset,\n",
    "    batch_size=config.batch_size,\n",
    "    shuffle=False,\n",
    "    drop_last=False,\n",
    ")\n",
    "\n",
    "test_ab_loader = mydataloader.generate_loader(\n",
    "    dataset=testset_ab,\n",
    "    batch_size=config.batch_size,\n",
    "    shuffle=False,\n",
    "    drop_last=False,\n",
    ")\n",
    "\n",
    "test_others_loader = mydataloader.generate_loader(\n",
    "    dataset=testset_others,\n",
    "    batch_size=config.batch_size,\n",
    "    shuffle=False,\n",
    "    drop_last=False,\n",
    ")"
   ]
  },
  {
   "cell_type": "markdown",
   "id": "a2089d73",
   "metadata": {
    "id": "a2089d73"
   },
   "source": [
    "## Model Architecture"
   ]
  },
  {
   "cell_type": "markdown",
   "id": "7390087e",
   "metadata": {
    "id": "7390087e"
   },
   "source": [
    "### CNN Based"
   ]
  },
  {
   "cell_type": "code",
   "execution_count": null,
   "id": "eebfbd6a",
   "metadata": {
    "ExecuteTime": {
     "end_time": "2021-05-06T07:14:06.559880Z",
     "start_time": "2021-05-06T07:14:06.554661Z"
    },
    "id": "eebfbd6a"
   },
   "outputs": [],
   "source": [
    "class CNNBased(nn.Module):\n",
    "    def __init__(self, ):\n",
    "        super(CNNBased, self).__init__()\n",
    "        \n",
    "    def forward(self, inputs):\n",
    "        pass"
   ]
  },
  {
   "cell_type": "markdown",
   "id": "fc44e39a",
   "metadata": {
    "id": "fc44e39a"
   },
   "source": [
    "### ResNet"
   ]
  },
  {
   "cell_type": "code",
   "execution_count": null,
   "id": "e8XfYiUHopjA",
   "metadata": {
    "ExecuteTime": {
     "end_time": "2021-05-06T07:38:03.283477Z",
     "start_time": "2021-05-06T07:38:03.280270Z"
    },
    "id": "e8XfYiUHopjA"
   },
   "outputs": [],
   "source": [
    "def conv3x3(in_channels, out_channels, stride=1, kernel=3):\n",
    "    return nn.Conv2d(in_channels, out_channels, kernel_size=kernel, \n",
    "                     stride=stride, padding=1, bias=False)"
   ]
  },
  {
   "cell_type": "code",
   "execution_count": null,
   "id": "I8wBkedVo729",
   "metadata": {
    "ExecuteTime": {
     "end_time": "2021-05-06T07:38:03.467802Z",
     "start_time": "2021-05-06T07:38:03.462628Z"
    },
    "id": "I8wBkedVo729"
   },
   "outputs": [],
   "source": [
    "class ResidualBlock(nn.Module):\n",
    "    def __init__(self, in_channels, out_channels, stride=1, downsample=None, use_batchnorm=True):\n",
    "        super(ResidualBlock, self).__init__()\n",
    "        self.conv1 = conv3x3(in_channels, out_channels, stride)\n",
    "        self.bn1 = nn.BatchNorm2d(out_channels)\n",
    "        self.relu = nn.ReLU(inplace=True)\n",
    "        self.conv2 = conv3x3(out_channels, out_channels)\n",
    "        self.bn2 = nn.BatchNorm2d(out_channels)\n",
    "        self.downsample = downsample\n",
    "        self.use_batchnorm = use_batchnorm\n",
    "        \n",
    "    def forward(self, x):\n",
    "        residual = x\n",
    "        \n",
    "        if self.use_batchnorm:\n",
    "            out = self.conv1(x)\n",
    "            out = self.bn1(out)\n",
    "            out = self.relu(out)\n",
    "            out = self.conv2(out)\n",
    "            out = self.bn2(out)\n",
    "        else:\n",
    "            out = self.conv1(x)\n",
    "            out = self.relu(out)\n",
    "            out = self.conv2(out)\n",
    "            \n",
    "        if self.downsample:\n",
    "            residual = self.downsample(x)\n",
    "        out += residual\n",
    "        out = self.relu(out)\n",
    "        return out\n"
   ]
  },
  {
   "cell_type": "code",
   "execution_count": null,
   "id": "L7QGj4aqpOEm",
   "metadata": {
    "ExecuteTime": {
     "end_time": "2021-05-06T07:38:03.626729Z",
     "start_time": "2021-05-06T07:38:03.618926Z"
    },
    "id": "L7QGj4aqpOEm"
   },
   "outputs": [],
   "source": [
    "class ResNet(nn.Module):\n",
    "    def __init__(self, block, layers, num_classes=10, use_batchnorm=True):\n",
    "        super(ResNet, self).__init__()\n",
    "        self.in_channels = 64\n",
    "        self.use_batchnorm = use_batchnorm\n",
    "        self.conv = conv3x3(3, 64, kernel=5)\n",
    "        self.bn = nn.BatchNorm2d(64)\n",
    "        self.relu = nn.ReLU(inplace=True)\n",
    "        self.layer1 = self.make_layer(block, 64, layers[0])\n",
    "        self.layer2 = self.make_layer(block, 128, layers[1], 2)\n",
    "        self.layer3 = self.make_layer(block, 256, layers[2], 2)\n",
    "        self.avg_pool = nn.AvgPool2d(8)\n",
    "        self.fc = nn.Linear(256, num_classes)\n",
    "\n",
    "    def make_layer(self, block, out_channels, blocks, stride=1):\n",
    "        downsample = None\n",
    "        if (stride != 1) or (self.in_channels != out_channels):\n",
    "            if self.use_batchnorm:\n",
    "                downsample = nn.Sequential(\n",
    "                    conv3x3(self.in_channels, out_channels, stride=stride),\n",
    "                    nn.BatchNorm2d(out_channels))\n",
    "            else:\n",
    "                conv3x3(self.in_channels, out_channels, stride=stride)\n",
    "        layers = []\n",
    "        layers.append(block(self.in_channels, out_channels, stride, downsample, use_batchnorm=self.use_batchnorm))\n",
    "        self.in_channels = out_channels\n",
    "        for i in range(1, blocks):\n",
    "            layers.append(block(out_channels, out_channels, use_batchnorm=self.use_batchnorm))\n",
    "        return nn.Sequential(*layers)\n",
    "\n",
    "    def forward(self, x):\n",
    "        out = self.conv(x)\n",
    "        \n",
    "        if self.use_batchnorm:\n",
    "            out = self.bn(out)\n",
    "            \n",
    "        out = self.relu(out)\n",
    "        out = self.layer1(out)\n",
    "        out = self.layer2(out)\n",
    "        out = self.layer3(out)\n",
    "        out = self.avg_pool(out)\n",
    "        out = out.view(out.size(0), -1)\n",
    "        out = self.fc(out)\n",
    "        return out"
   ]
  },
  {
   "cell_type": "markdown",
   "id": "3158b78f",
   "metadata": {
    "id": "3158b78f"
   },
   "source": [
    "## Train Test Functions"
   ]
  },
  {
   "cell_type": "markdown",
   "id": "fee571a8",
   "metadata": {
    "id": "fee571a8"
   },
   "source": [
    "### Utils\n"
   ]
  },
  {
   "cell_type": "code",
   "execution_count": null,
   "id": "57fd1657",
   "metadata": {
    "ExecuteTime": {
     "end_time": "2021-05-06T07:14:06.601590Z",
     "start_time": "2021-05-06T07:14:06.590935Z"
    }
   },
   "outputs": [],
   "source": [
    "def logging(message, path, mode=\"w+\"):\n",
    "    print(message)\n",
    "    message += \"\\n\"\n",
    "    with open(path, mode) as file:\n",
    "        file.write(message)"
   ]
  },
  {
   "cell_type": "markdown",
   "id": "6da07b61",
   "metadata": {
    "id": "6da07b61"
   },
   "source": [
    "### Train"
   ]
  },
  {
   "cell_type": "code",
   "execution_count": null,
   "id": "Z58HlzEX53HG",
   "metadata": {
    "ExecuteTime": {
     "end_time": "2021-05-06T07:17:01.574209Z",
     "start_time": "2021-05-06T07:17:01.566961Z"
    },
    "id": "Z58HlzEX53HG"
   },
   "outputs": [],
   "source": [
    "def train(trainloader, testloaders, criterion, optimizer, config=config):\n",
    "    \n",
    "    # Record training process\n",
    "    logging(\n",
    "        message=\"Start training the experiment: {}!\".format(config.experiment_title),\n",
    "        path=os.path.join(config.root, \"results/logs\", config.experiment_title+\".txt\"),\n",
    "        mode=\"w+\",\n",
    "    )\n",
    "    \n",
    "    # Start training\n",
    "    total_step = len(trainloader)\n",
    "    num_epochs = config.epoch\n",
    "    fractions = []\n",
    "    for epoch in range(num_epochs):\n",
    "        model.train()\n",
    "        for i, (images, labels) in enumerate(trainloader):\n",
    "            images = images.to(device)\n",
    "            labels = labels.to(device)\n",
    "\n",
    "            # Forward pass\n",
    "            outputs = model(images)\n",
    "            loss = criterion(outputs, labels)\n",
    "\n",
    "            # Backward and optimize\n",
    "            optimizer.zero_grad()\n",
    "            loss.backward()\n",
    "            optimizer.step()\n",
    "\n",
    "            if (i+1) % 100 == 0:\n",
    "                message = \"Epoch [{}/{}], Step [{}/{}] Loss: {:.4f}\" \\\n",
    "                   .format(epoch+1, num_epochs, i+1, total_step, loss.item())\n",
    "                logging(\n",
    "                    message=message,\n",
    "                    path=os.path.join(config.root, \"results/logs\", config.experiment_title+\".txt\"),\n",
    "                    mode=\"a+\",\n",
    "                )\n",
    "                \n",
    "        # After each epoch, we evaluate on \"cat and dog test images\" and \"test images from the other 8 classes\"\n",
    "        fractions_catdog_other8 = []\n",
    "        for testloader in testloaders:\n",
    "            evaluation_results = evaluation(model, testloader)\n",
    "            fractions_catdog_other8.append(evaluation_results[\"fraction_of_class_a\"])\n",
    "        fractions.append(fractions_catdog_other8)\n",
    "        \n",
    "        # We save fraction of dogs after each epoch in case that we will stop the training process earlier\n",
    "        fractions_path=os.path.join(config.root, \"results/fractions\", config.experiment_title+\".pkl\")\n",
    "        with open(fractions_path, \"wb\") as file:\n",
    "            pickle.dump(fractions, file) \n",
    "    \n",
    "    return model"
   ]
  },
  {
   "cell_type": "markdown",
   "id": "2a4100de",
   "metadata": {
    "id": "2a4100de"
   },
   "source": [
    "### Test"
   ]
  },
  {
   "cell_type": "code",
   "execution_count": null,
   "id": "e8677c95",
   "metadata": {
    "ExecuteTime": {
     "end_time": "2021-05-06T07:17:02.548420Z",
     "start_time": "2021-05-06T07:17:02.543482Z"
    }
   },
   "outputs": [],
   "source": [
    "def evaluation(model,\n",
    "               testloader,\n",
    "               config=config):\n",
    "    model.eval()\n",
    "    with torch.no_grad():\n",
    "        y_trues, y_preds = [], []\n",
    "        for images, labels in testloader:\n",
    "            images = images.to(device)\n",
    "            labels = labels.to(device)\n",
    "            outputs = model(images)\n",
    "            _, predicted = torch.max(outputs.data, 1)\n",
    "            y_preds += predicted.tolist()\n",
    "            y_trues += labels.tolist()\n",
    "        report = classification_report(y_trues, y_preds)\n",
    "    \n",
    "    fraction_of_class_a = sum([config.class_a_index==y_pred for y_pred in y_preds])/len(y_preds)\n",
    "    \n",
    "    # save results\n",
    "    evaluation_results = {\n",
    "        \"y_trues\": y_trues,\n",
    "        \"y_preds\": y_preds, \n",
    "        \"report\": report,\n",
    "        \"fraction_of_class_a\": fraction_of_class_a,\n",
    "    }\n",
    "    return evaluation_results"
   ]
  },
  {
   "cell_type": "markdown",
   "id": "39593787",
   "metadata": {},
   "source": [
    "## Start Training\n",
    "\n",
    "The training process will be saved into a text file, named by config.experiment_title, in **results/logs/**. Also, the fraction of dogs will be saved as a pickle file in **results/fractions/**."
   ]
  },
  {
   "cell_type": "code",
   "execution_count": null,
   "id": "_HRZERCDvuwT",
   "metadata": {
    "ExecuteTime": {
     "end_time": "2021-05-06T07:43:00.415823Z",
     "start_time": "2021-05-06T07:41:38.594860Z"
    },
    "colab": {
     "base_uri": "https://localhost:8080/"
    },
    "id": "_HRZERCDvuwT",
    "outputId": "b0cfa8e5-6859-4c88-8423-8498c8c9f5b8"
   },
   "outputs": [],
   "source": [
    "# requirement\n",
    "model = ResNet(\n",
    "    block=ResidualBlock,\n",
    "    layers=[2, 2, 2],\n",
    "    num_classes=config.num_classes,\n",
    "    use_batchnorm=config.use_batchnorm\n",
    ").to(device)\n",
    "\n",
    "weights = torch.ones(10)\n",
    "weights[config.class_a_index] = config.class_a_weight\n",
    "weights[config.class_b_index] = config.class_b_weight\n",
    "criterion = nn.CrossEntropyLoss(weight=weights.to(device))\n",
    "\n",
    "learning_rate = config.lr\n",
    "optimizer = torch.optim.SGD(model.parameters(), lr=learning_rate)\n",
    "\n",
    "# train\n",
    "model_trained = train(train_loader, [test_ab_loader, test_others_loader], criterion, optimizer)\n",
    "\n",
    "# save model\n",
    "torch.save(\n",
    "    model_trained.state_dict(),\n",
    "    os.path.join(config.root, \"results/models\", config.experiment_title+\".ckpt\")\n",
    ")"
   ]
  },
  {
   "cell_type": "markdown",
   "id": "4c7844e4",
   "metadata": {
    "id": "145ba5a4"
   },
   "source": [
    "### Evaluation"
   ]
  },
  {
   "cell_type": "code",
   "execution_count": null,
   "id": "8345337f",
   "metadata": {
    "ExecuteTime": {
     "end_time": "2021-05-06T07:24:35.833872Z",
     "start_time": "2021-05-06T07:24:32.151300Z"
    },
    "id": "8345337f"
   },
   "outputs": [],
   "source": [
    "results = evaluation(model_trained, test_loader)\n",
    "print(results[\"report\"])\n",
    "\n",
    "print(\"---\"*3)\n",
    "\n",
    "results = evaluation(model_trained, test_ab_loader)\n",
    "print(results[\"report\"])"
   ]
  },
  {
   "cell_type": "markdown",
   "id": "34d980ad",
   "metadata": {},
   "source": [
    "### Reload Fractions"
   ]
  },
  {
   "cell_type": "code",
   "execution_count": null,
   "id": "37603c55",
   "metadata": {
    "ExecuteTime": {
     "end_time": "2021-05-06T07:25:45.587555Z",
     "start_time": "2021-05-06T07:25:45.583884Z"
    }
   },
   "outputs": [],
   "source": [
    "fractions_path=os.path.join(config.root, \"results/fractions\", config.experiment_title+\".pkl\")\n",
    "with open(fractions_path, \"rb\") as file:\n",
    "    fractions = pickle.load(file)"
   ]
  },
  {
   "cell_type": "code",
   "execution_count": null,
   "id": "4491514c",
   "metadata": {},
   "outputs": [],
   "source": []
  }
 ],
 "metadata": {
  "accelerator": "GPU",
  "colab": {
   "collapsed_sections": [],
   "name": "Copy of pipeline.ipynb",
   "provenance": []
  },
  "kernelspec": {
   "display_name": "Python 3",
   "language": "python",
   "name": "python3"
  },
  "language_info": {
   "codemirror_mode": {
    "name": "ipython",
    "version": 3
   },
   "file_extension": ".py",
   "mimetype": "text/x-python",
   "name": "python",
   "nbconvert_exporter": "python",
   "pygments_lexer": "ipython3",
   "version": "3.8.8"
  },
  "toc": {
   "base_numbering": 1,
   "nav_menu": {},
   "number_sections": true,
   "sideBar": true,
   "skip_h1_title": false,
   "title_cell": "Table of Contents",
   "title_sidebar": "Contents",
   "toc_cell": false,
   "toc_position": {},
   "toc_section_display": true,
   "toc_window_display": false
  }
 },
 "nbformat": 4,
 "nbformat_minor": 5
}
