{
  "nbformat": 4,
  "nbformat_minor": 5,
  "metadata": {
    "kernelspec": {
      "display_name": "Python 3",
      "language": "python",
      "name": "python3"
    },
    "language_info": {
      "codemirror_mode": {
        "name": "ipython",
        "version": 3
      },
      "file_extension": ".py",
      "mimetype": "text/x-python",
      "name": "python",
      "nbconvert_exporter": "python",
      "pygments_lexer": "ipython3",
      "version": "3.8.8"
    },
    "toc": {
      "base_numbering": 1,
      "nav_menu": {},
      "number_sections": true,
      "sideBar": true,
      "skip_h1_title": false,
      "title_cell": "Table of Contents",
      "title_sidebar": "Contents",
      "toc_cell": false,
      "toc_position": {},
      "toc_section_display": true,
      "toc_window_display": false
    },
    "colab": {
      "name": "Copy of pipeline.ipynb",
      "provenance": [],
      "collapsed_sections": []
    },
    "accelerator": "GPU"
  },
  "cells": [
    {
      "cell_type": "markdown",
      "metadata": {
        "id": "1d593010"
      },
      "source": [
        "## Package"
      ],
      "id": "1d593010"
    },
    {
      "cell_type": "code",
      "metadata": {
        "id": "86ba0a7e"
      },
      "source": [
        "import numpy as np\n",
        "import os\n",
        "import argparse\n",
        "import torch\n",
        "import torchvision\n",
        "import torchvision.transforms as transforms\n",
        "import torch.nn as nn "
      ],
      "id": "86ba0a7e",
      "execution_count": 34,
      "outputs": []
    },
    {
      "cell_type": "markdown",
      "metadata": {
        "id": "17b2ed54"
      },
      "source": [
        "## Config"
      ],
      "id": "17b2ed54"
    },
    {
      "cell_type": "code",
      "metadata": {
        "id": "7ae68c77"
      },
      "source": [
        "parser = {\n",
        "    \"root\": \"../\",\n",
        "    \"seeds\": 123,\n",
        "    \"batch_size\": 16,\n",
        "    \"class_a_index\": 5, # 5 -> dog\n",
        "    \"class_b_index\": 3, # 3 -> cat\n",
        "    \"class_a_size\": None, # Use None to read all class_a samples (5000 rows)\n",
        "    \"class_b_size\": None,\n",
        "    \"epoch\": 10,\n",
        "    \"download_cifar10\": True, # set to True if you have not downloaded cifar10 dataset \n",
        "}\n",
        "config = argparse.Namespace(**parser)\n",
        "device = torch.device('cuda' if torch.cuda.is_available() else 'cpu')"
      ],
      "id": "7ae68c77",
      "execution_count": 35,
      "outputs": []
    },
    {
      "cell_type": "markdown",
      "metadata": {
        "id": "5e823cd0"
      },
      "source": [
        "## Reprodicibility"
      ],
      "id": "5e823cd0"
    },
    {
      "cell_type": "code",
      "metadata": {
        "id": "528e42c7"
      },
      "source": [
        "def set_seed(seed):\n",
        "    torch.manual_seed(seed)\n",
        "    torch.cuda.manual_seed_all(seed)\n",
        "    torch.backends.cudnn.deterministic = True\n",
        "    torch.backends.cudnn.benchmark = False\n",
        "    np.random.seed(seed)\n",
        "    \n",
        "set_seed(config.seeds)"
      ],
      "id": "528e42c7",
      "execution_count": 36,
      "outputs": []
    },
    {
      "cell_type": "markdown",
      "metadata": {
        "id": "cb955a4a"
      },
      "source": [
        "## Load Data"
      ],
      "id": "cb955a4a"
    },
    {
      "cell_type": "code",
      "metadata": {
        "id": "0fd2f0ae"
      },
      "source": [
        "class CustomDataLoader:\n",
        "    \n",
        "    def __init__(self, class_a_size=None, class_b_size=None, seeds=123, download=True):\n",
        "        \"\"\"\n",
        "        Arguments:\n",
        "            class_a_size: The number of samples for class a (e.g. dog).\n",
        "            class_b_size: The number of samples for class b (e.g. cat).\n",
        "        \"\"\"\n",
        "        self.class_a_size = class_a_size # e.g. 5000\n",
        "        self.class_b_size = class_b_size # e.g. 5000\n",
        "        self.seeds = seeds\n",
        "        self.classes = ['plane', 'car', 'bird', 'cat',\n",
        "                   'deer', 'dog', 'frog', 'horse', 'ship', 'truck']\n",
        "        self.download = download\n",
        "        \n",
        "    def sampling(self, indices, num, seeds=123):\n",
        "        \"\"\"\n",
        "        Sample num samples from indices randomly. If num is a float and 0.0 <= num <= 1.0,\n",
        "        we sample num percentage of samples from indices.\n",
        "        \"\"\"\n",
        "        np.random.seed(self.seeds)\n",
        "        if isinstance(num, float) and 0 <= num <= 1:\n",
        "            size = int(num * len(indices))\n",
        "            samples = np.random.choice(indices, size)\n",
        "        elif isinstance(num, int) and num <= len(indices):\n",
        "            size = num\n",
        "            samples = np.random.choice(indices, size)\n",
        "        elif num is None:\n",
        "            samples = indices\n",
        "        else:\n",
        "            print(\"Please make sure 'num' is in the correct range\")\n",
        "        return samples       \n",
        "        \n",
        "    def get_subset_index(self, labels, targets):\n",
        "        \n",
        "        # get subsets\n",
        "        sample_indices = []\n",
        "        for i in range(len(labels)):\n",
        "            if labels[i] in targets:\n",
        "                sample_indices.append(i)\n",
        "            \n",
        "        return sample_indices\n",
        "\n",
        "    def load_dataset(self, data_dir, batch_size, train_a_label=5, train_b_label=3):\n",
        "        \n",
        "        transform = transforms.Compose(\n",
        "            [transforms.ToTensor(),\n",
        "             transforms.Normalize((0.5, 0.5, 0.5), (0.5, 0.5, 0.5))])\n",
        "        \n",
        "        # 1. read train data belonged to train_labels\n",
        "        trainset = torchvision.datasets.CIFAR10(root=data_dir, train=True,\n",
        "                                                download=self.download, transform=transform)\n",
        "        \n",
        "        # 1-1. get index belonged to class a and b with sampling\n",
        "        class_a_indices = self.get_subset_index(trainset.targets, [train_a_label])\n",
        "        class_a_indices = self.sampling(class_a_indices, self.class_a_size, self.seeds)\n",
        "        \n",
        "        class_b_indices = self.get_subset_index(trainset.targets, [train_b_label])\n",
        "        class_b_indices = self.sampling(class_b_indices, self.class_b_size, self.seeds)\n",
        "        \n",
        "        train_index_subset = np.concatenate((class_a_indices, class_b_indices))\n",
        "        trainsubset = torch.utils.data.Subset(trainset, train_index_subset)\n",
        "\n",
        "        # 1. read test data and separate them into (dog, cat) and (the other 8)\n",
        "        testset = torchvision.datasets.CIFAR10(root=data_dir, train=False,\n",
        "                                               download=self.download, transform=transform)\n",
        "        test_index_class_ab = self.get_subset_index(\n",
        "            labels=testset.targets,\n",
        "            targets=[train_a_label, train_b_label]\n",
        "        )\n",
        "        test_index_others = self.get_subset_index(\n",
        "            labels=testset.targets,\n",
        "            targets=[cls for cls in range(len(self.classes)) if cls not in [train_a_label, train_b_label]]\n",
        "        )\n",
        "        testsubset_ab = torch.utils.data.Subset(testset, test_index_class_ab)\n",
        "        testsubset_others = torch.utils.data.Subset(testset, test_index_others)\n",
        "\n",
        "        return trainsubset, (testsubset_ab, testsubset_others)\n",
        "\n",
        "    def generate_loader(self, dataset, batch_size, shuffle=True, drop_last=True):\n",
        "        dataloader = torch.utils.data.DataLoader(\n",
        "            dataset,\n",
        "            batch_size=batch_size,\n",
        "            shuffle=True,\n",
        "            drop_last=True\n",
        "        )\n",
        "        return dataloader"
      ],
      "id": "0fd2f0ae",
      "execution_count": 37,
      "outputs": []
    },
    {
      "cell_type": "code",
      "metadata": {
        "id": "565b62d9",
        "colab": {
          "base_uri": "https://localhost:8080/"
        },
        "outputId": "7a211cda-e04e-4e1d-8271-5a0d89cbe41e"
      },
      "source": [
        "mydataloader = CustomDataLoader(\n",
        "    class_a_size=config.class_a_size,\n",
        "    class_b_size=config.class_b_size,\n",
        "    seeds=config.seeds,\n",
        "    download=config.download_cifar10)\n",
        "\n",
        "trainset, (testset_ab, testset_others) = mydataloader.load_dataset(\n",
        "    data_dir=os.path.join(config.root, \"data\"),\n",
        "    batch_size=config.batch_size,\n",
        "    train_a_label=config.class_a_index, # dog\n",
        "    train_b_label=config.class_b_index, # cat\n",
        ")\n",
        "\n",
        "train_loader = mydataloader.generate_loader(\n",
        "    dataset=trainset,\n",
        "    batch_size=config.batch_size,\n",
        "    shuffle=True,\n",
        "    drop_last=True,\n",
        ")\n",
        "\n",
        "test_ab_loader = mydataloader.generate_loader(\n",
        "    dataset=testset_ab,\n",
        "    batch_size=config.batch_size,\n",
        "    shuffle=False,\n",
        "    drop_last=False,\n",
        ")\n",
        "\n",
        "test_others_loader = mydataloader.generate_loader(\n",
        "    dataset=testset_others,\n",
        "    batch_size=config.batch_size,\n",
        "    shuffle=False,\n",
        "    drop_last=False,\n",
        ")"
      ],
      "id": "565b62d9",
      "execution_count": 38,
      "outputs": [
        {
          "output_type": "stream",
          "text": [
            "Files already downloaded and verified\n",
            "Files already downloaded and verified\n"
          ],
          "name": "stdout"
        }
      ]
    },
    {
      "cell_type": "markdown",
      "metadata": {
        "id": "a2089d73"
      },
      "source": [
        "## Model Architecture"
      ],
      "id": "a2089d73"
    },
    {
      "cell_type": "markdown",
      "metadata": {
        "id": "7390087e"
      },
      "source": [
        "### CNN Based"
      ],
      "id": "7390087e"
    },
    {
      "cell_type": "code",
      "metadata": {
        "id": "eebfbd6a"
      },
      "source": [
        "class CNNBased(nn.Module):\n",
        "    def __init__(self, ):\n",
        "        super(CNNBased, self).__init__()\n",
        "        \n",
        "    def forward(self, inputs):\n",
        "        pass"
      ],
      "id": "eebfbd6a",
      "execution_count": 39,
      "outputs": []
    },
    {
      "cell_type": "markdown",
      "metadata": {
        "id": "fc44e39a"
      },
      "source": [
        "### ResNet"
      ],
      "id": "fc44e39a"
    },
    {
      "cell_type": "code",
      "metadata": {
        "id": "e8XfYiUHopjA"
      },
      "source": [
        "def conv3x3(in_channels, out_channels, stride=1):\n",
        "    return nn.Conv2d(in_channels, out_channels, kernel_size=3, \n",
        "                     stride=stride, padding=1, bias=False)"
      ],
      "id": "e8XfYiUHopjA",
      "execution_count": 40,
      "outputs": []
    },
    {
      "cell_type": "code",
      "metadata": {
        "id": "I8wBkedVo729"
      },
      "source": [
        "class ResidualBlock(nn.Module):\n",
        "    def __init__(self, in_channels, out_channels, stride=1, downsample=None):\n",
        "        super(ResidualBlock, self).__init__()\n",
        "        self.conv1 = conv3x3(in_channels, out_channels, stride)\n",
        "        self.bn1 = nn.BatchNorm2d(out_channels)\n",
        "        self.relu = nn.ReLU(inplace=True)\n",
        "        self.conv2 = conv3x3(out_channels, out_channels)\n",
        "        self.bn2 = nn.BatchNorm2d(out_channels)\n",
        "        self.downsample = downsample\n",
        "\n",
        "    def forward(self, x):\n",
        "        residual = x\n",
        "        out = self.conv1(x)\n",
        "        out = self.bn1(out)\n",
        "        out = self.relu(out)\n",
        "        out = self.conv2(out)\n",
        "        out = self.bn2(out)\n",
        "        if self.downsample:\n",
        "            residual = self.downsample(x)\n",
        "        out += residual\n",
        "        out = self.relu(out)\n",
        "        return out\n"
      ],
      "id": "I8wBkedVo729",
      "execution_count": 41,
      "outputs": []
    },
    {
      "cell_type": "code",
      "metadata": {
        "id": "L7QGj4aqpOEm"
      },
      "source": [
        "class ResNet(nn.Module):\n",
        "    def __init__(self, block, layers, num_classes=10):\n",
        "        super(ResNet, self).__init__()\n",
        "        self.in_channels = 16\n",
        "        self.conv = conv3x3(3, 16)\n",
        "        self.bn = nn.BatchNorm2d(16)\n",
        "        self.relu = nn.ReLU(inplace=True)\n",
        "        self.layer1 = self.make_layer(block, 16, layers[0])\n",
        "        self.layer2 = self.make_layer(block, 32, layers[1], 2)\n",
        "        self.layer3 = self.make_layer(block, 64, layers[2], 2)\n",
        "        self.avg_pool = nn.AvgPool2d(8)\n",
        "        self.fc = nn.Linear(64, num_classes)\n",
        "\n",
        "    def make_layer(self, block, out_channels, blocks, stride=1):\n",
        "        downsample = None\n",
        "        if (stride != 1) or (self.in_channels != out_channels):\n",
        "            downsample = nn.Sequential(\n",
        "                conv3x3(self.in_channels, out_channels, stride=stride),\n",
        "                nn.BatchNorm2d(out_channels))\n",
        "        layers = []\n",
        "        layers.append(block(self.in_channels, out_channels, stride, downsample))\n",
        "        self.in_channels = out_channels\n",
        "        for i in range(1, blocks):\n",
        "            layers.append(block(out_channels, out_channels))\n",
        "        return nn.Sequential(*layers)\n",
        "\n",
        "    def forward(self, x):\n",
        "        out = self.conv(x)\n",
        "        out = self.bn(out)\n",
        "        out = self.relu(out)\n",
        "        out = self.layer1(out)\n",
        "        out = self.layer2(out)\n",
        "        out = self.layer3(out)\n",
        "        out = self.avg_pool(out)\n",
        "        out = out.view(out.size(0), -1)\n",
        "        out = self.fc(out)\n",
        "        return out"
      ],
      "id": "L7QGj4aqpOEm",
      "execution_count": 42,
      "outputs": []
    },
    {
      "cell_type": "markdown",
      "metadata": {
        "id": "3158b78f"
      },
      "source": [
        "## Train Test Functions"
      ],
      "id": "3158b78f"
    },
    {
      "cell_type": "markdown",
      "metadata": {
        "id": "6da07b61"
      },
      "source": [
        "### Train"
      ],
      "id": "6da07b61"
    },
    {
      "cell_type": "code",
      "metadata": {
        "id": "Z58HlzEX53HG"
      },
      "source": [
        "def train(trainloader, criterion, optimizer):\n",
        "    total_step = len(trainloader)\n",
        "    num_epochs = config.epoch\n",
        "    for epoch in range(num_epochs):\n",
        "        for i, (images, labels) in enumerate(trainloader):\n",
        "            images = images.to(device)\n",
        "            labels = labels.to(device)\n",
        "\n",
        "            # Forward pass\n",
        "            outputs = model(images)\n",
        "            loss = criterion(outputs, labels)\n",
        "\n",
        "            # Backward and optimize\n",
        "            optimizer.zero_grad()\n",
        "            loss.backward()\n",
        "            optimizer.step()\n",
        "\n",
        "            if (i+1) % 100 == 0:\n",
        "                print (\"Epoch [{}/{}], Step [{}/{}] Loss: {:.4f}\"\n",
        "                   .format(epoch+1, num_epochs, i+1, total_step, loss.item()))"
      ],
      "id": "Z58HlzEX53HG",
      "execution_count": 43,
      "outputs": []
    },
    {
      "cell_type": "code",
      "metadata": {
        "colab": {
          "base_uri": "https://localhost:8080/"
        },
        "id": "_HRZERCDvuwT",
        "outputId": "b0cfa8e5-6859-4c88-8423-8498c8c9f5b8"
      },
      "source": [
        "model = ResNet(ResidualBlock, [2, 2, 2]).to(device)\n",
        "criterion = nn.CrossEntropyLoss()\n",
        "learning_rate = 0.01\n",
        "optimizer = torch.optim.Adam(model.parameters(), lr=learning_rate)\n",
        "train(train_loader, criterion, optimizer)"
      ],
      "id": "_HRZERCDvuwT",
      "execution_count": 44,
      "outputs": [
        {
          "output_type": "stream",
          "text": [
            "Epoch [1/10], Step [100/625] Loss: 0.7109\n",
            "Epoch [1/10], Step [200/625] Loss: 0.6873\n",
            "Epoch [1/10], Step [300/625] Loss: 0.7250\n",
            "Epoch [1/10], Step [400/625] Loss: 0.8079\n",
            "Epoch [1/10], Step [500/625] Loss: 0.6152\n",
            "Epoch [1/10], Step [600/625] Loss: 0.5968\n",
            "Epoch [2/10], Step [100/625] Loss: 0.6955\n",
            "Epoch [2/10], Step [200/625] Loss: 0.6989\n",
            "Epoch [2/10], Step [300/625] Loss: 0.6648\n",
            "Epoch [2/10], Step [400/625] Loss: 0.7299\n",
            "Epoch [2/10], Step [500/625] Loss: 0.5812\n",
            "Epoch [2/10], Step [600/625] Loss: 0.6880\n",
            "Epoch [3/10], Step [100/625] Loss: 0.5172\n",
            "Epoch [3/10], Step [200/625] Loss: 0.6711\n",
            "Epoch [3/10], Step [300/625] Loss: 0.6042\n",
            "Epoch [3/10], Step [400/625] Loss: 0.5409\n",
            "Epoch [3/10], Step [500/625] Loss: 0.5610\n",
            "Epoch [3/10], Step [600/625] Loss: 0.7007\n",
            "Epoch [4/10], Step [100/625] Loss: 0.5880\n",
            "Epoch [4/10], Step [200/625] Loss: 0.4590\n",
            "Epoch [4/10], Step [300/625] Loss: 0.5548\n",
            "Epoch [4/10], Step [400/625] Loss: 0.4427\n",
            "Epoch [4/10], Step [500/625] Loss: 0.6561\n",
            "Epoch [4/10], Step [600/625] Loss: 0.4481\n",
            "Epoch [5/10], Step [100/625] Loss: 0.5126\n",
            "Epoch [5/10], Step [200/625] Loss: 0.7073\n",
            "Epoch [5/10], Step [300/625] Loss: 0.6680\n",
            "Epoch [5/10], Step [400/625] Loss: 0.4322\n",
            "Epoch [5/10], Step [500/625] Loss: 0.7367\n",
            "Epoch [5/10], Step [600/625] Loss: 0.5671\n",
            "Epoch [6/10], Step [100/625] Loss: 0.5137\n",
            "Epoch [6/10], Step [200/625] Loss: 0.3797\n",
            "Epoch [6/10], Step [300/625] Loss: 0.7261\n",
            "Epoch [6/10], Step [400/625] Loss: 0.4162\n",
            "Epoch [6/10], Step [500/625] Loss: 0.6929\n",
            "Epoch [6/10], Step [600/625] Loss: 0.1635\n",
            "Epoch [7/10], Step [100/625] Loss: 0.4347\n",
            "Epoch [7/10], Step [200/625] Loss: 0.8324\n",
            "Epoch [7/10], Step [300/625] Loss: 0.3843\n",
            "Epoch [7/10], Step [400/625] Loss: 0.4285\n",
            "Epoch [7/10], Step [500/625] Loss: 0.4087\n",
            "Epoch [7/10], Step [600/625] Loss: 0.3982\n",
            "Epoch [8/10], Step [100/625] Loss: 0.3498\n",
            "Epoch [8/10], Step [200/625] Loss: 0.4668\n",
            "Epoch [8/10], Step [300/625] Loss: 0.3680\n",
            "Epoch [8/10], Step [400/625] Loss: 0.5992\n",
            "Epoch [8/10], Step [500/625] Loss: 0.2017\n",
            "Epoch [8/10], Step [600/625] Loss: 0.2507\n",
            "Epoch [9/10], Step [100/625] Loss: 0.5472\n",
            "Epoch [9/10], Step [200/625] Loss: 0.6561\n",
            "Epoch [9/10], Step [300/625] Loss: 0.2225\n",
            "Epoch [9/10], Step [400/625] Loss: 0.4568\n",
            "Epoch [9/10], Step [500/625] Loss: 0.6363\n",
            "Epoch [9/10], Step [600/625] Loss: 0.3411\n",
            "Epoch [10/10], Step [100/625] Loss: 0.2863\n",
            "Epoch [10/10], Step [200/625] Loss: 0.3952\n",
            "Epoch [10/10], Step [300/625] Loss: 0.2572\n",
            "Epoch [10/10], Step [400/625] Loss: 0.5596\n",
            "Epoch [10/10], Step [500/625] Loss: 0.2485\n",
            "Epoch [10/10], Step [600/625] Loss: 0.3056\n"
          ],
          "name": "stdout"
        }
      ]
    },
    {
      "cell_type": "markdown",
      "metadata": {
        "id": "2a4100de"
      },
      "source": [
        "### Test"
      ],
      "id": "2a4100de"
    },
    {
      "cell_type": "code",
      "metadata": {
        "id": "0e761ce2"
      },
      "source": [
        "def evaluation(testloader):\n",
        "    model.eval()\n",
        "    with torch.no_grad():\n",
        "        correct = 0\n",
        "        total = 0\n",
        "        for images, labels in testloader:\n",
        "            images = images.to(device)\n",
        "            labels = labels.to(device)\n",
        "            outputs = model(images)\n",
        "            _, predicted = torch.max(outputs.data, 1)\n",
        "            total += labels.size(0)\n",
        "            correct += (predicted == labels).sum().item()\n",
        "\n",
        "        print('Accuracy of the model on the test images: {} %'.format(100 * correct / total))"
      ],
      "id": "0e761ce2",
      "execution_count": 45,
      "outputs": []
    },
    {
      "cell_type": "code",
      "metadata": {
        "colab": {
          "base_uri": "https://localhost:8080/"
        },
        "id": "31v8r5SF6OQM",
        "outputId": "91478b12-3fba-4a3f-9748-9cb3c1328155"
      },
      "source": [
        "evaluation(test_ab_loader)"
      ],
      "id": "31v8r5SF6OQM",
      "execution_count": 46,
      "outputs": [
        {
          "output_type": "stream",
          "text": [
            "Accuracy of the model on the test images: 78.15 %\n"
          ],
          "name": "stdout"
        }
      ]
    },
    {
      "cell_type": "markdown",
      "metadata": {
        "id": "fee571a8"
      },
      "source": [
        "### Utils\n",
        "\n",
        "- Save anything for plots?"
      ],
      "id": "fee571a8"
    },
    {
      "cell_type": "code",
      "metadata": {
        "id": "145ba5a4"
      },
      "source": [
        ""
      ],
      "id": "145ba5a4",
      "execution_count": 46,
      "outputs": []
    },
    {
      "cell_type": "markdown",
      "metadata": {
        "id": "16670fff"
      },
      "source": [
        "## Start Training"
      ],
      "id": "16670fff"
    },
    {
      "cell_type": "markdown",
      "metadata": {
        "id": "15b6bfd2"
      },
      "source": [
        "### Reload Data"
      ],
      "id": "15b6bfd2"
    },
    {
      "cell_type": "code",
      "metadata": {
        "id": "12f1c7d0"
      },
      "source": [
        ""
      ],
      "id": "12f1c7d0",
      "execution_count": 46,
      "outputs": []
    },
    {
      "cell_type": "markdown",
      "metadata": {
        "id": "628a0134"
      },
      "source": [
        "### Training Requirements\n",
        "\n",
        "- optimizer\n",
        "- criterion"
      ],
      "id": "628a0134"
    },
    {
      "cell_type": "markdown",
      "metadata": {
        "id": "b0fb5583"
      },
      "source": [
        "### Start Here"
      ],
      "id": "b0fb5583"
    },
    {
      "cell_type": "code",
      "metadata": {
        "id": "8345337f"
      },
      "source": [
        ""
      ],
      "id": "8345337f",
      "execution_count": 46,
      "outputs": []
    }
  ]
}